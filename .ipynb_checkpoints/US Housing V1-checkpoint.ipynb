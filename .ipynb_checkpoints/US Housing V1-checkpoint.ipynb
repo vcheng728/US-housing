{
 "cells": [
  {
   "cell_type": "code",
   "execution_count": 1,
   "metadata": {},
   "outputs": [],
   "source": [
    "import numpy as np\n",
    "import pandas as pd\n",
    "import matplotlib.pyplot as plt\n",
    "import seaborn as sns\n",
    "# algorithm\n",
    "\n",
    "from sklearn.linear_model import LinearRegression, Lasso, Ridge, ElasticNet\n",
    "from sklearn.svm import SVR\n",
    "from sklearn.ensemble import RandomForestRegressor, GradientBoostingRegressor\n",
    "from sklearn.tree import DecisionTreeRegressor\n",
    "# training\n",
    "from sklearn.model_selection import train_test_split\n",
    "from sklearn.metrics import mean_squared_error\n",
    "from sklearn.model_selection import cross_val_score\n",
    "\n",
    "%matplotlib inline\n",
    "     "
   ]
  },
  {
   "cell_type": "code",
   "execution_count": 2,
   "metadata": {},
   "outputs": [
    {
     "ename": "FileNotFoundError",
     "evalue": "File b'F://kaggle//housing//test.csv' does not exist",
     "output_type": "error",
     "traceback": [
      "\u001b[1;31m---------------------------------------------------------------------------\u001b[0m",
      "\u001b[1;31mFileNotFoundError\u001b[0m                         Traceback (most recent call last)",
      "\u001b[1;32m<ipython-input-2-7e6c22d71a06>\u001b[0m in \u001b[0;36m<module>\u001b[1;34m\u001b[0m\n\u001b[1;32m----> 1\u001b[1;33m \u001b[0mtest\u001b[0m \u001b[1;33m=\u001b[0m \u001b[0mpd\u001b[0m\u001b[1;33m.\u001b[0m\u001b[0mread_csv\u001b[0m\u001b[1;33m(\u001b[0m\u001b[1;34m'F://kaggle//housing//test.csv'\u001b[0m\u001b[1;33m)\u001b[0m\u001b[1;33m\u001b[0m\u001b[1;33m\u001b[0m\u001b[0m\n\u001b[0m\u001b[0;32m      2\u001b[0m \u001b[0mtrain\u001b[0m \u001b[1;33m=\u001b[0m \u001b[0mpd\u001b[0m\u001b[1;33m.\u001b[0m\u001b[0mread_csv\u001b[0m\u001b[1;33m(\u001b[0m\u001b[1;34m'F://kaggle//housing//train.csv'\u001b[0m\u001b[1;33m)\u001b[0m\u001b[1;33m\u001b[0m\u001b[1;33m\u001b[0m\u001b[0m\n",
      "\u001b[1;32m~\\AppData\\Local\\Continuum\\anaconda\\lib\\site-packages\\pandas\\io\\parsers.py\u001b[0m in \u001b[0;36mparser_f\u001b[1;34m(filepath_or_buffer, sep, delimiter, header, names, index_col, usecols, squeeze, prefix, mangle_dupe_cols, dtype, engine, converters, true_values, false_values, skipinitialspace, skiprows, nrows, na_values, keep_default_na, na_filter, verbose, skip_blank_lines, parse_dates, infer_datetime_format, keep_date_col, date_parser, dayfirst, iterator, chunksize, compression, thousands, decimal, lineterminator, quotechar, quoting, escapechar, comment, encoding, dialect, tupleize_cols, error_bad_lines, warn_bad_lines, skipfooter, doublequote, delim_whitespace, low_memory, memory_map, float_precision)\u001b[0m\n\u001b[0;32m    676\u001b[0m                     skip_blank_lines=skip_blank_lines)\n\u001b[0;32m    677\u001b[0m \u001b[1;33m\u001b[0m\u001b[0m\n\u001b[1;32m--> 678\u001b[1;33m         \u001b[1;32mreturn\u001b[0m \u001b[0m_read\u001b[0m\u001b[1;33m(\u001b[0m\u001b[0mfilepath_or_buffer\u001b[0m\u001b[1;33m,\u001b[0m \u001b[0mkwds\u001b[0m\u001b[1;33m)\u001b[0m\u001b[1;33m\u001b[0m\u001b[1;33m\u001b[0m\u001b[0m\n\u001b[0m\u001b[0;32m    679\u001b[0m \u001b[1;33m\u001b[0m\u001b[0m\n\u001b[0;32m    680\u001b[0m     \u001b[0mparser_f\u001b[0m\u001b[1;33m.\u001b[0m\u001b[0m__name__\u001b[0m \u001b[1;33m=\u001b[0m \u001b[0mname\u001b[0m\u001b[1;33m\u001b[0m\u001b[1;33m\u001b[0m\u001b[0m\n",
      "\u001b[1;32m~\\AppData\\Local\\Continuum\\anaconda\\lib\\site-packages\\pandas\\io\\parsers.py\u001b[0m in \u001b[0;36m_read\u001b[1;34m(filepath_or_buffer, kwds)\u001b[0m\n\u001b[0;32m    438\u001b[0m \u001b[1;33m\u001b[0m\u001b[0m\n\u001b[0;32m    439\u001b[0m     \u001b[1;31m# Create the parser.\u001b[0m\u001b[1;33m\u001b[0m\u001b[1;33m\u001b[0m\u001b[1;33m\u001b[0m\u001b[0m\n\u001b[1;32m--> 440\u001b[1;33m     \u001b[0mparser\u001b[0m \u001b[1;33m=\u001b[0m \u001b[0mTextFileReader\u001b[0m\u001b[1;33m(\u001b[0m\u001b[0mfilepath_or_buffer\u001b[0m\u001b[1;33m,\u001b[0m \u001b[1;33m**\u001b[0m\u001b[0mkwds\u001b[0m\u001b[1;33m)\u001b[0m\u001b[1;33m\u001b[0m\u001b[1;33m\u001b[0m\u001b[0m\n\u001b[0m\u001b[0;32m    441\u001b[0m \u001b[1;33m\u001b[0m\u001b[0m\n\u001b[0;32m    442\u001b[0m     \u001b[1;32mif\u001b[0m \u001b[0mchunksize\u001b[0m \u001b[1;32mor\u001b[0m \u001b[0miterator\u001b[0m\u001b[1;33m:\u001b[0m\u001b[1;33m\u001b[0m\u001b[1;33m\u001b[0m\u001b[0m\n",
      "\u001b[1;32m~\\AppData\\Local\\Continuum\\anaconda\\lib\\site-packages\\pandas\\io\\parsers.py\u001b[0m in \u001b[0;36m__init__\u001b[1;34m(self, f, engine, **kwds)\u001b[0m\n\u001b[0;32m    785\u001b[0m             \u001b[0mself\u001b[0m\u001b[1;33m.\u001b[0m\u001b[0moptions\u001b[0m\u001b[1;33m[\u001b[0m\u001b[1;34m'has_index_names'\u001b[0m\u001b[1;33m]\u001b[0m \u001b[1;33m=\u001b[0m \u001b[0mkwds\u001b[0m\u001b[1;33m[\u001b[0m\u001b[1;34m'has_index_names'\u001b[0m\u001b[1;33m]\u001b[0m\u001b[1;33m\u001b[0m\u001b[1;33m\u001b[0m\u001b[0m\n\u001b[0;32m    786\u001b[0m \u001b[1;33m\u001b[0m\u001b[0m\n\u001b[1;32m--> 787\u001b[1;33m         \u001b[0mself\u001b[0m\u001b[1;33m.\u001b[0m\u001b[0m_make_engine\u001b[0m\u001b[1;33m(\u001b[0m\u001b[0mself\u001b[0m\u001b[1;33m.\u001b[0m\u001b[0mengine\u001b[0m\u001b[1;33m)\u001b[0m\u001b[1;33m\u001b[0m\u001b[1;33m\u001b[0m\u001b[0m\n\u001b[0m\u001b[0;32m    788\u001b[0m \u001b[1;33m\u001b[0m\u001b[0m\n\u001b[0;32m    789\u001b[0m     \u001b[1;32mdef\u001b[0m \u001b[0mclose\u001b[0m\u001b[1;33m(\u001b[0m\u001b[0mself\u001b[0m\u001b[1;33m)\u001b[0m\u001b[1;33m:\u001b[0m\u001b[1;33m\u001b[0m\u001b[1;33m\u001b[0m\u001b[0m\n",
      "\u001b[1;32m~\\AppData\\Local\\Continuum\\anaconda\\lib\\site-packages\\pandas\\io\\parsers.py\u001b[0m in \u001b[0;36m_make_engine\u001b[1;34m(self, engine)\u001b[0m\n\u001b[0;32m   1012\u001b[0m     \u001b[1;32mdef\u001b[0m \u001b[0m_make_engine\u001b[0m\u001b[1;33m(\u001b[0m\u001b[0mself\u001b[0m\u001b[1;33m,\u001b[0m \u001b[0mengine\u001b[0m\u001b[1;33m=\u001b[0m\u001b[1;34m'c'\u001b[0m\u001b[1;33m)\u001b[0m\u001b[1;33m:\u001b[0m\u001b[1;33m\u001b[0m\u001b[1;33m\u001b[0m\u001b[0m\n\u001b[0;32m   1013\u001b[0m         \u001b[1;32mif\u001b[0m \u001b[0mengine\u001b[0m \u001b[1;33m==\u001b[0m \u001b[1;34m'c'\u001b[0m\u001b[1;33m:\u001b[0m\u001b[1;33m\u001b[0m\u001b[1;33m\u001b[0m\u001b[0m\n\u001b[1;32m-> 1014\u001b[1;33m             \u001b[0mself\u001b[0m\u001b[1;33m.\u001b[0m\u001b[0m_engine\u001b[0m \u001b[1;33m=\u001b[0m \u001b[0mCParserWrapper\u001b[0m\u001b[1;33m(\u001b[0m\u001b[0mself\u001b[0m\u001b[1;33m.\u001b[0m\u001b[0mf\u001b[0m\u001b[1;33m,\u001b[0m \u001b[1;33m**\u001b[0m\u001b[0mself\u001b[0m\u001b[1;33m.\u001b[0m\u001b[0moptions\u001b[0m\u001b[1;33m)\u001b[0m\u001b[1;33m\u001b[0m\u001b[1;33m\u001b[0m\u001b[0m\n\u001b[0m\u001b[0;32m   1015\u001b[0m         \u001b[1;32melse\u001b[0m\u001b[1;33m:\u001b[0m\u001b[1;33m\u001b[0m\u001b[1;33m\u001b[0m\u001b[0m\n\u001b[0;32m   1016\u001b[0m             \u001b[1;32mif\u001b[0m \u001b[0mengine\u001b[0m \u001b[1;33m==\u001b[0m \u001b[1;34m'python'\u001b[0m\u001b[1;33m:\u001b[0m\u001b[1;33m\u001b[0m\u001b[1;33m\u001b[0m\u001b[0m\n",
      "\u001b[1;32m~\\AppData\\Local\\Continuum\\anaconda\\lib\\site-packages\\pandas\\io\\parsers.py\u001b[0m in \u001b[0;36m__init__\u001b[1;34m(self, src, **kwds)\u001b[0m\n\u001b[0;32m   1706\u001b[0m         \u001b[0mkwds\u001b[0m\u001b[1;33m[\u001b[0m\u001b[1;34m'usecols'\u001b[0m\u001b[1;33m]\u001b[0m \u001b[1;33m=\u001b[0m \u001b[0mself\u001b[0m\u001b[1;33m.\u001b[0m\u001b[0musecols\u001b[0m\u001b[1;33m\u001b[0m\u001b[1;33m\u001b[0m\u001b[0m\n\u001b[0;32m   1707\u001b[0m \u001b[1;33m\u001b[0m\u001b[0m\n\u001b[1;32m-> 1708\u001b[1;33m         \u001b[0mself\u001b[0m\u001b[1;33m.\u001b[0m\u001b[0m_reader\u001b[0m \u001b[1;33m=\u001b[0m \u001b[0mparsers\u001b[0m\u001b[1;33m.\u001b[0m\u001b[0mTextReader\u001b[0m\u001b[1;33m(\u001b[0m\u001b[0msrc\u001b[0m\u001b[1;33m,\u001b[0m \u001b[1;33m**\u001b[0m\u001b[0mkwds\u001b[0m\u001b[1;33m)\u001b[0m\u001b[1;33m\u001b[0m\u001b[1;33m\u001b[0m\u001b[0m\n\u001b[0m\u001b[0;32m   1709\u001b[0m \u001b[1;33m\u001b[0m\u001b[0m\n\u001b[0;32m   1710\u001b[0m         \u001b[0mpassed_names\u001b[0m \u001b[1;33m=\u001b[0m \u001b[0mself\u001b[0m\u001b[1;33m.\u001b[0m\u001b[0mnames\u001b[0m \u001b[1;32mis\u001b[0m \u001b[1;32mNone\u001b[0m\u001b[1;33m\u001b[0m\u001b[1;33m\u001b[0m\u001b[0m\n",
      "\u001b[1;32mpandas\\_libs\\parsers.pyx\u001b[0m in \u001b[0;36mpandas._libs.parsers.TextReader.__cinit__\u001b[1;34m()\u001b[0m\n",
      "\u001b[1;32mpandas\\_libs\\parsers.pyx\u001b[0m in \u001b[0;36mpandas._libs.parsers.TextReader._setup_parser_source\u001b[1;34m()\u001b[0m\n",
      "\u001b[1;31mFileNotFoundError\u001b[0m: File b'F://kaggle//housing//test.csv' does not exist"
     ]
    }
   ],
   "source": [
    "test = pd.read_csv('./test.csv')\n",
    "train = pd.read_csv('F://kaggle//housing//train.csv')"
   ]
  },
  {
   "cell_type": "code",
   "execution_count": null,
   "metadata": {},
   "outputs": [],
   "source": [
    "train.columns"
   ]
  },
  {
   "cell_type": "code",
   "execution_count": null,
   "metadata": {},
   "outputs": [],
   "source": [
    "train['SalePrice'].describe()"
   ]
  },
  {
   "cell_type": "code",
   "execution_count": null,
   "metadata": {},
   "outputs": [],
   "source": [
    "sns.distplot(train['SalePrice'])"
   ]
  },
  {
   "cell_type": "code",
   "execution_count": null,
   "metadata": {},
   "outputs": [],
   "source": [
    "sns.distplot(np.log(train['SalePrice']))"
   ]
  },
  {
   "cell_type": "code",
   "execution_count": null,
   "metadata": {},
   "outputs": [],
   "source": [
    "var = 'GrLivArea'\n",
    "train.plot.scatter(x = var, y = 'SalePrice')"
   ]
  },
  {
   "cell_type": "code",
   "execution_count": null,
   "metadata": {},
   "outputs": [],
   "source": [
    "var = 'TotalBsmtSF'\n",
    "train.plot.scatter(x = var, y = 'SalePrice')"
   ]
  },
  {
   "cell_type": "code",
   "execution_count": null,
   "metadata": {},
   "outputs": [],
   "source": [
    "f, ax = plt.subplots(figsize = (16,8))\n",
    "sns.boxplot(x = 'YearBuilt', y = 'SalePrice', data = train)"
   ]
  },
  {
   "cell_type": "code",
   "execution_count": null,
   "metadata": {},
   "outputs": [],
   "source": [
    "corrmat = train.corr()\n",
    "f, ax = plt.subplots(figsize = (12,9))\n",
    "sns.heatmap(corrmat, square = True)"
   ]
  },
  {
   "cell_type": "code",
   "execution_count": null,
   "metadata": {},
   "outputs": [],
   "source": [
    "k = 10\n",
    "cols = corrmat.nlargest(k, 'SalePrice')['SalePrice'].index\n",
    "cm = np.corrcoef(train[cols].values.T)\n",
    "sns.set(font_scale = 1.25)\n",
    "hm = sns.heatmap(cm, cbar = True, annot = True, square = True, fmt = '.2f', annot_kws = {'size':10},\n",
    "                 yticklabels = cols.values, xticklabels=cols.values)\n"
   ]
  },
  {
   "cell_type": "code",
   "execution_count": null,
   "metadata": {},
   "outputs": [],
   "source": [
    "sns.set()\n",
    "cols = ['SalePrice', 'OverallQual', 'GrLivArea', 'GarageCars', 'TotalBsmtSF', 'FullBath', 'YearBuilt']\n",
    "\n",
    "sns.pairplot(train[cols],size = 2.5)"
   ]
  },
  {
   "cell_type": "code",
   "execution_count": null,
   "metadata": {},
   "outputs": [],
   "source": [
    "total = train.isnull().sum().sort_values(ascending = False)\n",
    "percent = (train.isnull().sum()/train.isnull().count()).sort_values(ascending = False)\n",
    "missing_data = pd.concat([total,percent],axis = 1, keys = ['Total','Percent'])\n",
    "missing_data.head(20)"
   ]
  },
  {
   "cell_type": "code",
   "execution_count": null,
   "metadata": {},
   "outputs": [],
   "source": [
    "# log transforms\n",
    "#     adding HasBsmt\n",
    "train['HasBsmt'] = pd.Series(len(train['TotalBsmtSF']), index = train.index)\n",
    "train['HasBsmt'] = 0\n",
    "train.loc[train['TotalBsmtSF'] > 0, 'HasBsmt'] = 1 \n",
    "train.loc[train['HasBsmt'] == 1, 'TotalBsmtSF'] = np.log(train['TotalBsmtSF'])\n",
    "\n",
    "#    saleprice transform\n",
    "train['SalePrice'] = np.log(train['SalePrice'])\n",
    "\n",
    "# imputing with None\n",
    "train['PoolQC'].fillna(value = 'None', inplace = True)\n",
    "train['Alley'].fillna(value = \"None\", inplace = True )"
   ]
  },
  {
   "cell_type": "code",
   "execution_count": null,
   "metadata": {},
   "outputs": [],
   "source": [
    "# log transforms\n",
    "#     adding HasBsmt\n",
    "test['HasBsmt'] = pd.Series(len(test['TotalBsmtSF']), index = test.index)\n",
    "test['HasBsmt'] = 0\n",
    "test.loc[train['TotalBsmtSF'] > 0, 'HasBsmt'] = 1 \n",
    "test.loc[train['HasBsmt'] == 1, 'TotalBsmtSF'] = np.log(test['TotalBsmtSF'])\n",
    "\n",
    "#    saleprice transform\n",
    "# test['SalePrice'] = np.log(test['SalePrice'])\n",
    "\n",
    "# imputing with None\n",
    "test['PoolQC'].fillna(value = 'None', inplace = True)\n",
    "test['Alley'].fillna(value = \"None\", inplace = True )"
   ]
  },
  {
   "cell_type": "code",
   "execution_count": null,
   "metadata": {},
   "outputs": [],
   "source": [
    "sns.distplot(train['SalePrice'])"
   ]
  },
  {
   "cell_type": "code",
   "execution_count": null,
   "metadata": {},
   "outputs": [],
   "source": [
    "import pandas as pd\n",
    "\n",
    "def clean_dataset(df):\n",
    "    assert isinstance(df, pd.DataFrame), \"df needs to be a pd.DataFrame\"\n",
    "    df.dropna(inplace=True)\n",
    "    indices_to_keep = ~df.isin([np.nan, np.inf, -np.inf]).any(1)\n",
    "    return df[indices_to_keep].astype(np.float64)\n",
    "\n"
   ]
  },
  {
   "cell_type": "code",
   "execution_count": null,
   "metadata": {},
   "outputs": [],
   "source": [
    "sns.distplot(train[train['TotalBsmtSF']>0]['TotalBsmtSF'])"
   ]
  },
  {
   "cell_type": "code",
   "execution_count": null,
   "metadata": {
    "scrolled": true
   },
   "outputs": [],
   "source": [
    "train.loc[:,('TotalBsmtSF','SalePrice')]"
   ]
  },
  {
   "cell_type": "code",
   "execution_count": null,
   "metadata": {},
   "outputs": [],
   "source": [
    "plt.scatter(train[train['TotalBsmtSF']>0]['TotalBsmtSF'], train[train['TotalBsmtSF']>0]['SalePrice']);"
   ]
  },
  {
   "cell_type": "code",
   "execution_count": null,
   "metadata": {
    "scrolled": true
   },
   "outputs": [],
   "source": [
    "train_dummies = pd.get_dummies(train)\n",
    "clean_dataset(train_dummies)\n",
    "train_dummies"
   ]
  },
  {
   "cell_type": "code",
   "execution_count": null,
   "metadata": {},
   "outputs": [],
   "source": [
    "test.loc[960, \"PoolQC\"] = \"Fa\"\n",
    "test.loc[1043, \"PoolQC\"] = \"Gd\"\n",
    "test.loc[1139, \"PoolQC\"] = \"Fa\"\n",
    "\n",
    "# Garage\n",
    "test.loc[666, \"GarageYrBlt\"] = 1979\n",
    "test.loc[1116, \"GarageYrBlt\"] = 1979\n",
    "\n",
    "test.loc[666, \"GarageFinish\"] = \"Unf\"\n",
    "test.loc[1116, \"GarageFinish\"] = \"Unf\"\n",
    "\n",
    "test.loc[1116, \"GarageCars\"] = 2\n",
    "test.loc[1116, \"GarageArea\"] = 480\n",
    "\n",
    "test.loc[666, \"GarageQual\"] = \"TA\"\n",
    "test.loc[1116, \"GarageQual\"] = \"TA\"\n",
    "\n",
    "test.loc[666, \"GarageCond\"] = \"TA\"\n",
    "test.loc[1116, \"GarageCond\"] = \"TA\"\n",
    "# PoolQC\n",
    "train = train.fillna({\"PoolQC\": \"None\"})\n",
    "test = test.fillna({\"PoolQC\": \"None\"})\n",
    "\n",
    "# Alley\n",
    "train = train.fillna({\"Alley\": \"None\"})\n",
    "test = test.fillna({\"Alley\": \"None\"})\n",
    "\n",
    "# FireplaceQu\n",
    "train = train.fillna({\"FireplaceQu\": \"None\"})\n",
    "test = test.fillna({\"FireplaceQu\": \"None\"})\n",
    "\n",
    "# LotFrontage\n",
    "train = train.fillna({\"LotFrontage\": 0})\n",
    "test = test.fillna({\"LotFrontage\": 0})\n",
    "\n",
    "# Garage\n",
    "train = train.fillna({\"GarageType\": \"None\"})\n",
    "test = test.fillna({\"GarageType\": \"None\"})\n",
    "train = train.fillna({\"GarageYrBlt\": 0})\n",
    "test = test.fillna({\"GarageYrBlt\": 0})\n",
    "train = train.fillna({\"GarageFinish\": \"None\"})\n",
    "test = test.fillna({\"GarageFinish\": \"None\"})\n",
    "test = test.fillna({\"GarageCars\": 0})\n",
    "test = test.fillna({\"GarageArea\": 0})\n",
    "train = train.fillna({\"GarageQual\": \"None\"})\n",
    "test = test.fillna({\"GarageQual\": \"None\"})\n",
    "train = train.fillna({\"GarageCond\": \"None\"})\n",
    "test = test.fillna({\"GarageCond\": \"None\"})\n",
    "\n",
    "# Bsmt\n",
    "train = train.fillna({\"BsmtQual\": \"None\"})\n",
    "test = test.fillna({\"BsmtQual\": \"None\"})\n",
    "train = train.fillna({\"BsmtCond\": \"None\"})\n",
    "test = test.fillna({\"BsmtCond\": \"None\"})\n",
    "train = train.fillna({\"BsmtExposure\": \"None\"})\n",
    "test = test.fillna({\"BsmtExposure\": \"None\"})\n",
    "train = train.fillna({\"BsmtFinType1\": \"None\"})\n",
    "test = test.fillna({\"BsmtFinType1\": \"None\"})\n",
    "train = train.fillna({\"BsmtFinSF1\": 0})\n",
    "test = test.fillna({\"BsmtFinSF1\": 0})\n",
    "train = train.fillna({\"BsmtFinType2\": \"None\"})\n",
    "test = test.fillna({\"BsmtFinType2\": \"None\"})\n",
    "test = test.fillna({\"BsmtFinSF2\": 0})\n",
    "test = test.fillna({\"BsmtUnfSF\": 0})\n",
    "test = test.fillna({\"TotalBsmtSF\": 0})\n",
    "test = test.fillna({\"BsmtFullBath\": 0})\n",
    "test = test.fillna({\"BsmtHalfBath\": 0})\n",
    "\n",
    "# MasVnr\n",
    "train = train.fillna({\"MasVnrType\": \"None\"})\n",
    "test = test.fillna({\"MasVnrType\": \"None\"})\n",
    "train = train.fillna({\"MasVnrArea\": 0})\n",
    "test = test.fillna({\"MasVnrArea\": 0})\n",
    "\n",
    "# MiscFeature,Fence,Utilities\n",
    "# train = train.drop([\"Fence\", \"MiscFeature\", \"Utilities\"], axis=1)\n",
    "# test = test.drop([\"Fence\", \"MiscFeature\", \"Utilities\"], axis=1)\n",
    "\n",
    "# other\n",
    "test = test.fillna({\"MSZoning\": \"RL\"})\n",
    "test = test.fillna({\"Exterior1st\": \"VinylSd\"})\n",
    "test = test.fillna({\"Exterior2nd\": \"VinylSd\"})\n",
    "train = train.fillna({\"Electrical\": \"SBrkr\"})\n",
    "test = test.fillna({\"KitchenQual\": \"TA\"})\n",
    "test = test.fillna({\"Functional\": \"Typ\"})\n",
    "test = test.fillna({\"SaleType\": \"WD\"})\n",
    "lfmean = test['LotFrontage'].mean()\n",
    "test['LotFrontage'].fillna(value = lfmean)\n",
    "\n",
    "test_dummies = pd.get_dummies(test)\n",
    "test_dummies\n",
    "\n"
   ]
  },
  {
   "cell_type": "code",
   "execution_count": null,
   "metadata": {},
   "outputs": [],
   "source": []
  },
  {
   "cell_type": "code",
   "execution_count": null,
   "metadata": {},
   "outputs": [],
   "source": [
    "train_dummies.loc[960, \"PoolQC\"] = \"Fa\"\n",
    "train_dummies.loc[1043, \"PoolQC\"] = \"Gd\"\n",
    "train_dummies.loc[1139, \"PoolQC\"] = \"Fa\"\n",
    " \n",
    "# Garage\n",
    "train_dummies.loc[666, \"GarageYrBlt\"] = 1979\n",
    "train_dummies.loc[1116, \"GarageYrBlt\"] = 1979\n",
    " \n",
    "train_dummies.loc[666, \"GarageFinish\"] = \"Unf\"\n",
    "train_dummies.loc[1116, \"GarageFinish\"] = \"Unf\"\n",
    " \n",
    "train_dummies.loc[1116, \"GarageCars\"] = 2\n",
    "train_dummies.loc[1116, \"GarageArea\"] = 480\n",
    " \n",
    "train_dummies.loc[666, \"GarageQual\"] = \"TA\"\n",
    "train_dummies.loc[1116, \"GarageQual\"] = \"TA\"\n",
    " \n",
    "train_dummies.loc[666, \"GarageCond\"] = \"TA\"\n",
    "train_dummies.loc[1116, \"GarageCond\"] = \"TA\"\n",
    "# PoolQC\n",
    "train = train.fillna({\"PoolQC\": \"None\"})\n",
    "train_dummies = train_dummies.fillna({\"PoolQC\": \"None\"})\n",
    " \n",
    "# Alley\n",
    "train = train.fillna({\"Alley\": \"None\"})\n",
    "train_dummies = train_dummies.fillna({\"Alley\": \"None\"})\n",
    " \n",
    "# FireplaceQu\n",
    "train = train.fillna({\"FireplaceQu\": \"None\"})\n",
    "train_dummies = train_dummies.fillna({\"FireplaceQu\": \"None\"})\n",
    " \n",
    "# LotFrontage\n",
    "train = train.fillna({\"LotFrontage\": 0})\n",
    "train_dummies = train_dummies.fillna({\"LotFrontage\": 0})\n",
    " \n",
    "# Garage\n",
    "train = train.fillna({\"GarageType\": \"None\"})\n",
    "train_dummies = train_dummies.fillna({\"GarageType\": \"None\"})\n",
    "train = train.fillna({\"GarageYrBlt\": 0})\n",
    "train_dummies = train_dummies.fillna({\"GarageYrBlt\": 0})\n",
    "train = train.fillna({\"GarageFinish\": \"None\"})\n",
    "train_dummies = train_dummies.fillna({\"GarageFinish\": \"None\"})\n",
    "train_dummies = train_dummies.fillna({\"GarageCars\": 0})\n",
    "train_dummies = train_dummies.fillna({\"GarageArea\": 0})\n",
    "train = train.fillna({\"GarageQual\": \"None\"})\n",
    "train_dummies = train_dummies.fillna({\"GarageQual\": \"None\"})\n",
    "train = train.fillna({\"GarageCond\": \"None\"})\n",
    "train_dummies = train_dummies.fillna({\"GarageCond\": \"None\"})\n",
    " \n",
    "# Bsmt\n",
    "train = train.fillna({\"BsmtQual\": \"None\"})\n",
    "train_dummies = train_dummies.fillna({\"BsmtQual\": \"None\"})\n",
    "train = train.fillna({\"BsmtCond\": \"None\"})\n",
    "train_dummies = train_dummies.fillna({\"BsmtCond\": \"None\"})\n",
    "train = train.fillna({\"BsmtExposure\": \"None\"})\n",
    "train_dummies = train_dummies.fillna({\"BsmtExposure\": \"None\"})\n",
    "train = train.fillna({\"BsmtFinType1\": \"None\"})\n",
    "train_dummies = train_dummies.fillna({\"BsmtFinType1\": \"None\"})\n",
    "train = train.fillna({\"BsmtFinSF1\": 0})\n",
    "train_dummies = train_dummies.fillna({\"BsmtFinSF1\": 0})\n",
    "train = train.fillna({\"BsmtFinType2\": \"None\"})\n",
    "train_dummies = train_dummies.fillna({\"BsmtFinType2\": \"None\"})\n",
    "train_dummies = train_dummies.fillna({\"BsmtFinSF2\": 0})\n",
    "train_dummies = train_dummies.fillna({\"BsmtUnfSF\": 0})\n",
    "train_dummies = train_dummies.fillna({\"TotalBsmtSF\": 0})\n",
    "train_dummies = train_dummies.fillna({\"BsmtFullBath\": 0})\n",
    "train_dummies = train_dummies.fillna({\"BsmtHalfBath\": 0})\n",
    " \n",
    "# MasVnr\n",
    "train = train.fillna({\"MasVnrType\": \"None\"})\n",
    "train_dummies = train_dummies.fillna({\"MasVnrType\": \"None\"})\n",
    "train = train.fillna({\"MasVnrArea\": 0})\n",
    "train_dummies = train_dummies.fillna({\"MasVnrArea\": 0})\n",
    " \n",
    "# MiscFeature,Fence,Utilities\n",
    "# train = train.drop([\"Fence\", \"MiscFeature\", \"Utilities\"], axis=1)\n",
    "# train_dummies = train_dummies.drop([\"Fence\", \"MiscFeature\", \"Utilities\"], axis=1)\n",
    " \n",
    "# other\n",
    "train_dummies = train_dummies.fillna({\"MSZoning\": \"RL\"})\n",
    "train_dummies = train_dummies.fillna({\"Exterior1st\": \"VinylSd\"})\n",
    "train_dummies = train_dummies.fillna({\"Exterior2nd\": \"VinylSd\"})\n",
    "train = train.fillna({\"Electrical\": \"SBrkr\"})\n",
    "train_dummies = train_dummies.fillna({\"KitchenQual\": \"TA\"})\n",
    "train_dummies = train_dummies.fillna({\"Functional\": \"Typ\"})\n",
    "train_dummies = train_dummies.fillna({\"SaleType\": \"WD\"})\n",
    "lfmean = train_dummies['LotFrontage'].mean()\n",
    "train_dummies['LotFrontage'].fillna(value = lfmean)\n",
    "\n",
    "\n",
    "dropcols = list(set(list(train_dummies.columns))-set(list(test_dummies.columns)))\n",
    "dropcols.append('SalePrice')\n",
    "\n",
    "train_notarg = train_dummies.drop(dropcols,axis = 1)\n",
    "y = train_dummies['SalePrice']\n"
   ]
  },
  {
   "cell_type": "code",
   "execution_count": null,
   "metadata": {
    "scrolled": true
   },
   "outputs": [],
   "source": [
    "train_notarg[train_notarg==np.inf]=np.nan\n",
    "train_notarg.fillna(train_notarg.mean(), inplace=True)\n",
    "train_notarg.drop([960,666,1116],inplace = True)\n",
    "# train_notarg.fillna(0,inplace= True)"
   ]
  },
  {
   "cell_type": "code",
   "execution_count": null,
   "metadata": {},
   "outputs": [],
   "source": [
    "col_mask=train_notarg.isnull().any(axis=0) \n",
    "row_mask=train_notarg.isnull().any(axis=1)\n",
    "row_mask"
   ]
  },
  {
   "cell_type": "code",
   "execution_count": null,
   "metadata": {},
   "outputs": [],
   "source": [
    "dropcols = list(set(list(train_dummies.columns))-set(list(test_dummies.columns)))\n",
    "dropcols.append('SalePrice')\n",
    "dropcols.append('Id')\n",
    "dropcols"
   ]
  },
  {
   "cell_type": "code",
   "execution_count": null,
   "metadata": {},
   "outputs": [],
   "source": [
    "rr = Ridge(alpha=10)\n",
    "rr.fit(train_notarg, y)\n",
    "np.sqrt(-cross_val_score(rr, train_notarg, y, cv=5, scoring=\"neg_mean_squared_error\")).mean()"
   ]
  },
  {
   "cell_type": "code",
   "execution_count": null,
   "metadata": {},
   "outputs": [],
   "source": [
    "y_pred = rr.predict(test_dummies)"
   ]
  },
  {
   "cell_type": "code",
   "execution_count": null,
   "metadata": {},
   "outputs": [],
   "source": [
    "plt.scatter(y,y_pred)\n",
    "\n",
    "plt.plot(range(10, 15), range(10, 15), color=\"red\")"
   ]
  },
  {
   "cell_type": "code",
   "execution_count": null,
   "metadata": {},
   "outputs": [],
   "source": [
    "submission = np.exp(np.array((y_pred)))-1"
   ]
  },
  {
   "cell_type": "code",
   "execution_count": null,
   "metadata": {},
   "outputs": [],
   "source": [
    "y"
   ]
  },
  {
   "cell_type": "code",
   "execution_count": null,
   "metadata": {},
   "outputs": [],
   "source": []
  }
 ],
 "metadata": {
  "kernelspec": {
   "display_name": "Python 3",
   "language": "python",
   "name": "python3"
  },
  "language_info": {
   "codemirror_mode": {
    "name": "ipython",
    "version": 3
   },
   "file_extension": ".py",
   "mimetype": "text/x-python",
   "name": "python",
   "nbconvert_exporter": "python",
   "pygments_lexer": "ipython3",
   "version": "3.7.1"
  }
 },
 "nbformat": 4,
 "nbformat_minor": 2
}
